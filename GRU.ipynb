{
 "cells": [
  {
   "cell_type": "code",
   "execution_count": 1,
   "metadata": {},
   "outputs": [
    {
     "name": "stdout",
     "output_type": "stream",
     "text": [
      "['GBcomments.csv']\n"
     ]
    }
   ],
   "source": [
    "import numpy as np\n",
    "import pandas as pd\n",
    "import matplotlib.pyplot as plt\n",
    "import seaborn as sns\n",
    "import re\n",
    "import emoji\n",
    "import nltk\n",
    "\n",
    "%matplotlib inline\n",
    "import warnings\n",
    "warnings.filterwarnings(\"ignore\")\n",
    "\n",
    "import os\n",
    "print(os.listdir(\"Dataset\"))"
   ]
  },
  {
   "cell_type": "code",
   "execution_count": 2,
   "metadata": {},
   "outputs": [],
   "source": [
    "pd.set_option('display.max_columns',None)"
   ]
  },
  {
   "cell_type": "code",
   "execution_count": 3,
   "metadata": {},
   "outputs": [],
   "source": [
    "df = pd.read_csv(r'Dataset\\GBcomments.csv', on_bad_lines='skip')"
   ]
  },
  {
   "cell_type": "code",
   "execution_count": 4,
   "metadata": {},
   "outputs": [
    {
     "data": {
      "text/html": [
       "<div>\n",
       "<style scoped>\n",
       "    .dataframe tbody tr th:only-of-type {\n",
       "        vertical-align: middle;\n",
       "    }\n",
       "\n",
       "    .dataframe tbody tr th {\n",
       "        vertical-align: top;\n",
       "    }\n",
       "\n",
       "    .dataframe thead th {\n",
       "        text-align: right;\n",
       "    }\n",
       "</style>\n",
       "<table border=\"1\" class=\"dataframe\">\n",
       "  <thead>\n",
       "    <tr style=\"text-align: right;\">\n",
       "      <th></th>\n",
       "      <th>video_id</th>\n",
       "      <th>comment_text</th>\n",
       "      <th>likes</th>\n",
       "      <th>replies</th>\n",
       "    </tr>\n",
       "  </thead>\n",
       "  <tbody>\n",
       "    <tr>\n",
       "      <th>0</th>\n",
       "      <td>jt2OHQh0HoQ</td>\n",
       "      <td>It's more accurate to call it the M+ (1000) be...</td>\n",
       "      <td>0</td>\n",
       "      <td>0</td>\n",
       "    </tr>\n",
       "    <tr>\n",
       "      <th>1</th>\n",
       "      <td>jt2OHQh0HoQ</td>\n",
       "      <td>To be there with a samsung phone\\n😂😂😂</td>\n",
       "      <td>1</td>\n",
       "      <td>0</td>\n",
       "    </tr>\n",
       "    <tr>\n",
       "      <th>2</th>\n",
       "      <td>jt2OHQh0HoQ</td>\n",
       "      <td>Thank gosh, a place I can watch it without hav...</td>\n",
       "      <td>0</td>\n",
       "      <td>0</td>\n",
       "    </tr>\n",
       "    <tr>\n",
       "      <th>3</th>\n",
       "      <td>jt2OHQh0HoQ</td>\n",
       "      <td>What happened to the home button on the iPhone...</td>\n",
       "      <td>0</td>\n",
       "      <td>0</td>\n",
       "    </tr>\n",
       "    <tr>\n",
       "      <th>4</th>\n",
       "      <td>jt2OHQh0HoQ</td>\n",
       "      <td>Power is the disease.  Care is the cure.  Keep...</td>\n",
       "      <td>0</td>\n",
       "      <td>0</td>\n",
       "    </tr>\n",
       "    <tr>\n",
       "      <th>...</th>\n",
       "      <td>...</td>\n",
       "      <td>...</td>\n",
       "      <td>...</td>\n",
       "      <td>...</td>\n",
       "    </tr>\n",
       "    <tr>\n",
       "      <th>718447</th>\n",
       "      <td>lLN1FwiqGwc</td>\n",
       "      <td>MEME ME MEME ME MEME ME</td>\n",
       "      <td>0</td>\n",
       "      <td>0</td>\n",
       "    </tr>\n",
       "    <tr>\n",
       "      <th>718448</th>\n",
       "      <td>lLN1FwiqGwc</td>\n",
       "      <td>Yeah, but does everybody float?</td>\n",
       "      <td>0</td>\n",
       "      <td>0</td>\n",
       "    </tr>\n",
       "    <tr>\n",
       "      <th>718449</th>\n",
       "      <td>lLN1FwiqGwc</td>\n",
       "      <td>That meme me dace 😂</td>\n",
       "      <td>0</td>\n",
       "      <td>0</td>\n",
       "    </tr>\n",
       "    <tr>\n",
       "      <th>718450</th>\n",
       "      <td>lLN1FwiqGwc</td>\n",
       "      <td>10:43 Is that Miles Upshur????</td>\n",
       "      <td>2</td>\n",
       "      <td>0</td>\n",
       "    </tr>\n",
       "    <tr>\n",
       "      <th>718451</th>\n",
       "      <td>lLN1FwiqGwc</td>\n",
       "      <td>WA-HA\\nWA-HA\\nWA-HA</td>\n",
       "      <td>1</td>\n",
       "      <td>0</td>\n",
       "    </tr>\n",
       "  </tbody>\n",
       "</table>\n",
       "<p>718452 rows × 4 columns</p>\n",
       "</div>"
      ],
      "text/plain": [
       "           video_id                                       comment_text  likes  \\\n",
       "0       jt2OHQh0HoQ  It's more accurate to call it the M+ (1000) be...      0   \n",
       "1       jt2OHQh0HoQ              To be there with a samsung phone\\n😂😂😂      1   \n",
       "2       jt2OHQh0HoQ  Thank gosh, a place I can watch it without hav...      0   \n",
       "3       jt2OHQh0HoQ  What happened to the home button on the iPhone...      0   \n",
       "4       jt2OHQh0HoQ  Power is the disease.  Care is the cure.  Keep...      0   \n",
       "...             ...                                                ...    ...   \n",
       "718447  lLN1FwiqGwc                            MEME ME MEME ME MEME ME      0   \n",
       "718448  lLN1FwiqGwc                    Yeah, but does everybody float?      0   \n",
       "718449  lLN1FwiqGwc                                That meme me dace 😂      0   \n",
       "718450  lLN1FwiqGwc                     10:43 Is that Miles Upshur????      2   \n",
       "718451  lLN1FwiqGwc                                WA-HA\\nWA-HA\\nWA-HA      1   \n",
       "\n",
       "        replies  \n",
       "0             0  \n",
       "1             0  \n",
       "2             0  \n",
       "3             0  \n",
       "4             0  \n",
       "...         ...  \n",
       "718447        0  \n",
       "718448        0  \n",
       "718449        0  \n",
       "718450        0  \n",
       "718451        0  \n",
       "\n",
       "[718452 rows x 4 columns]"
      ]
     },
     "execution_count": 4,
     "metadata": {},
     "output_type": "execute_result"
    }
   ],
   "source": [
    "df"
   ]
  },
  {
   "cell_type": "code",
   "execution_count": 5,
   "metadata": {},
   "outputs": [],
   "source": [
    "df.drop([\"video_id\", \"likes\", \"replies\"], axis=1, inplace=True)"
   ]
  },
  {
   "cell_type": "code",
   "execution_count": 6,
   "metadata": {},
   "outputs": [
    {
     "data": {
      "text/plain": [
       "comment_text    28\n",
       "dtype: int64"
      ]
     },
     "execution_count": 6,
     "metadata": {},
     "output_type": "execute_result"
    }
   ],
   "source": [
    "df.isnull().sum()"
   ]
  },
  {
   "cell_type": "code",
   "execution_count": 7,
   "metadata": {},
   "outputs": [],
   "source": [
    "df.dropna(inplace=True)"
   ]
  },
  {
   "cell_type": "code",
   "execution_count": 8,
   "metadata": {},
   "outputs": [
    {
     "data": {
      "text/plain": [
       "comment_text    0\n",
       "dtype: int64"
      ]
     },
     "execution_count": 8,
     "metadata": {},
     "output_type": "execute_result"
    }
   ],
   "source": [
    "df.isnull().sum()"
   ]
  },
  {
   "cell_type": "code",
   "execution_count": 9,
   "metadata": {},
   "outputs": [
    {
     "data": {
      "text/plain": [
       "(718424, 1)"
      ]
     },
     "execution_count": 9,
     "metadata": {},
     "output_type": "execute_result"
    }
   ],
   "source": [
    "df.shape"
   ]
  },
  {
   "cell_type": "code",
   "execution_count": 10,
   "metadata": {},
   "outputs": [
    {
     "data": {
      "text/plain": [
       "comment_text    372844\n",
       "dtype: int64"
      ]
     },
     "execution_count": 10,
     "metadata": {},
     "output_type": "execute_result"
    }
   ],
   "source": [
    "df.nunique()"
   ]
  },
  {
   "cell_type": "code",
   "execution_count": 11,
   "metadata": {},
   "outputs": [
    {
     "name": "stdout",
     "output_type": "stream",
     "text": [
      "<class 'pandas.core.frame.DataFrame'>\n",
      "Index: 718424 entries, 0 to 718451\n",
      "Data columns (total 1 columns):\n",
      " #   Column        Non-Null Count   Dtype \n",
      "---  ------        --------------   ----- \n",
      " 0   comment_text  718424 non-null  object\n",
      "dtypes: object(1)\n",
      "memory usage: 11.0+ MB\n"
     ]
    }
   ],
   "source": [
    "df.info()"
   ]
  },
  {
   "cell_type": "code",
   "execution_count": 12,
   "metadata": {},
   "outputs": [],
   "source": [
    "df.drop(41587, inplace=True)"
   ]
  },
  {
   "cell_type": "code",
   "execution_count": 13,
   "metadata": {},
   "outputs": [
    {
     "data": {
      "text/html": [
       "<div>\n",
       "<style scoped>\n",
       "    .dataframe tbody tr th:only-of-type {\n",
       "        vertical-align: middle;\n",
       "    }\n",
       "\n",
       "    .dataframe tbody tr th {\n",
       "        vertical-align: top;\n",
       "    }\n",
       "\n",
       "    .dataframe thead th {\n",
       "        text-align: right;\n",
       "    }\n",
       "</style>\n",
       "<table border=\"1\" class=\"dataframe\">\n",
       "  <thead>\n",
       "    <tr style=\"text-align: right;\">\n",
       "      <th></th>\n",
       "      <th>comment_text</th>\n",
       "    </tr>\n",
       "  </thead>\n",
       "  <tbody>\n",
       "    <tr>\n",
       "      <th>0</th>\n",
       "      <td>It's more accurate to call it the M+ (1000) be...</td>\n",
       "    </tr>\n",
       "    <tr>\n",
       "      <th>1</th>\n",
       "      <td>To be there with a samsung phone\\n😂😂😂</td>\n",
       "    </tr>\n",
       "    <tr>\n",
       "      <th>2</th>\n",
       "      <td>Thank gosh, a place I can watch it without hav...</td>\n",
       "    </tr>\n",
       "    <tr>\n",
       "      <th>3</th>\n",
       "      <td>What happened to the home button on the iPhone...</td>\n",
       "    </tr>\n",
       "    <tr>\n",
       "      <th>4</th>\n",
       "      <td>Power is the disease.  Care is the cure.  Keep...</td>\n",
       "    </tr>\n",
       "    <tr>\n",
       "      <th>...</th>\n",
       "      <td>...</td>\n",
       "    </tr>\n",
       "    <tr>\n",
       "      <th>718418</th>\n",
       "      <td>MEME ME MEME ME MEME ME</td>\n",
       "    </tr>\n",
       "    <tr>\n",
       "      <th>718419</th>\n",
       "      <td>Yeah, but does everybody float?</td>\n",
       "    </tr>\n",
       "    <tr>\n",
       "      <th>718420</th>\n",
       "      <td>That meme me dace 😂</td>\n",
       "    </tr>\n",
       "    <tr>\n",
       "      <th>718421</th>\n",
       "      <td>10:43 Is that Miles Upshur????</td>\n",
       "    </tr>\n",
       "    <tr>\n",
       "      <th>718422</th>\n",
       "      <td>WA-HA\\nWA-HA\\nWA-HA</td>\n",
       "    </tr>\n",
       "  </tbody>\n",
       "</table>\n",
       "<p>718423 rows × 1 columns</p>\n",
       "</div>"
      ],
      "text/plain": [
       "                                             comment_text\n",
       "0       It's more accurate to call it the M+ (1000) be...\n",
       "1                   To be there with a samsung phone\\n😂😂😂\n",
       "2       Thank gosh, a place I can watch it without hav...\n",
       "3       What happened to the home button on the iPhone...\n",
       "4       Power is the disease.  Care is the cure.  Keep...\n",
       "...                                                   ...\n",
       "718418                            MEME ME MEME ME MEME ME\n",
       "718419                    Yeah, but does everybody float?\n",
       "718420                                That meme me dace 😂\n",
       "718421                     10:43 Is that Miles Upshur????\n",
       "718422                                WA-HA\\nWA-HA\\nWA-HA\n",
       "\n",
       "[718423 rows x 1 columns]"
      ]
     },
     "execution_count": 13,
     "metadata": {},
     "output_type": "execute_result"
    }
   ],
   "source": [
    "df = df.reset_index().drop('index',axis=1)\n",
    "df"
   ]
  },
  {
   "cell_type": "code",
   "execution_count": 14,
   "metadata": {},
   "outputs": [
    {
     "data": {
      "text/plain": [
       "0         It's more accurate to call it the M+ (1000) be...\n",
       "1                     To be there with a samsung phone\\n😂😂😂\n",
       "2         Thank gosh, a place I can watch it without hav...\n",
       "3         What happened to the home button on the iPhone...\n",
       "4         Power is the disease.  Care is the cure.  Keep...\n",
       "                                ...                        \n",
       "718418                              MEME ME MEME ME MEME ME\n",
       "718419                      Yeah, but does everybody float?\n",
       "718420                                  That meme me dace 😂\n",
       "718421                       10:43 Is that Miles Upshur????\n",
       "718422                                  WA-HA\\nWA-HA\\nWA-HA\n",
       "Name: comment_text, Length: 718423, dtype: object"
      ]
     },
     "execution_count": 14,
     "metadata": {},
     "output_type": "execute_result"
    }
   ],
   "source": [
    "df['comment_text']"
   ]
  },
  {
   "cell_type": "code",
   "execution_count": 15,
   "metadata": {},
   "outputs": [
    {
     "name": "stderr",
     "output_type": "stream",
     "text": [
      "[nltk_data] Downloading package stopwords to\n",
      "[nltk_data]     C:\\Users\\0877\\AppData\\Roaming\\nltk_data...\n",
      "[nltk_data]   Package stopwords is already up-to-date!\n"
     ]
    }
   ],
   "source": [
    "# Download stopwords\n",
    "nltk.download('stopwords')\n",
    "from nltk.corpus import stopwords\n",
    "\n",
    "# Preprocess the comment text\n",
    "stop_words = set(stopwords.words('english'))\n",
    "\n",
    "def preprocess_text(comment):\n",
    "    # Convert to lowercase\n",
    "    comment = comment.lower().strip()\n",
    "    # Remove URLs\n",
    "    comment = re.sub(r'http\\S+|www.\\S+', '', comment)\n",
    "    # Remove emojis\n",
    "    comment = emoji.replace_emoji(comment, replace='')\n",
    "    # Remove non-alphanumeric characters\n",
    "    comment = re.sub(r'[^a-zA-Z0-9\\s]', '', comment)\n",
    "    # Remove stopwords\n",
    "    comment = \" \".join([word for word in comment.split() if word not in stop_words])\n",
    "    return comment"
   ]
  },
  {
   "cell_type": "code",
   "execution_count": 16,
   "metadata": {},
   "outputs": [
    {
     "data": {
      "text/html": [
       "<div>\n",
       "<style scoped>\n",
       "    .dataframe tbody tr th:only-of-type {\n",
       "        vertical-align: middle;\n",
       "    }\n",
       "\n",
       "    .dataframe tbody tr th {\n",
       "        vertical-align: top;\n",
       "    }\n",
       "\n",
       "    .dataframe thead th {\n",
       "        text-align: right;\n",
       "    }\n",
       "</style>\n",
       "<table border=\"1\" class=\"dataframe\">\n",
       "  <thead>\n",
       "    <tr style=\"text-align: right;\">\n",
       "      <th></th>\n",
       "      <th>comment_text</th>\n",
       "    </tr>\n",
       "  </thead>\n",
       "  <tbody>\n",
       "    <tr>\n",
       "      <th>0</th>\n",
       "      <td>accurate call 1000 price closer calling x 10</td>\n",
       "    </tr>\n",
       "    <tr>\n",
       "      <th>1</th>\n",
       "      <td>samsung phonen</td>\n",
       "    </tr>\n",
       "    <tr>\n",
       "      <th>2</th>\n",
       "      <td>thank gosh place watch without hd speed doesnt...</td>\n",
       "    </tr>\n",
       "    <tr>\n",
       "      <th>3</th>\n",
       "      <td>happened home button iphone x coughcopying sam...</td>\n",
       "    </tr>\n",
       "    <tr>\n",
       "      <th>4</th>\n",
       "      <td>power disease care cure keep caring others bes...</td>\n",
       "    </tr>\n",
       "    <tr>\n",
       "      <th>...</th>\n",
       "      <td>...</td>\n",
       "    </tr>\n",
       "    <tr>\n",
       "      <th>718418</th>\n",
       "      <td>meme meme meme</td>\n",
       "    </tr>\n",
       "    <tr>\n",
       "      <th>718419</th>\n",
       "      <td>yeah everybody float</td>\n",
       "    </tr>\n",
       "    <tr>\n",
       "      <th>718420</th>\n",
       "      <td>meme dace</td>\n",
       "    </tr>\n",
       "    <tr>\n",
       "      <th>718421</th>\n",
       "      <td>1043 miles upshur</td>\n",
       "    </tr>\n",
       "    <tr>\n",
       "      <th>718422</th>\n",
       "      <td>wahanwahanwaha</td>\n",
       "    </tr>\n",
       "  </tbody>\n",
       "</table>\n",
       "<p>718423 rows × 1 columns</p>\n",
       "</div>"
      ],
      "text/plain": [
       "                                             comment_text\n",
       "0            accurate call 1000 price closer calling x 10\n",
       "1                                          samsung phonen\n",
       "2       thank gosh place watch without hd speed doesnt...\n",
       "3       happened home button iphone x coughcopying sam...\n",
       "4       power disease care cure keep caring others bes...\n",
       "...                                                   ...\n",
       "718418                                     meme meme meme\n",
       "718419                               yeah everybody float\n",
       "718420                                          meme dace\n",
       "718421                                  1043 miles upshur\n",
       "718422                                     wahanwahanwaha\n",
       "\n",
       "[718423 rows x 1 columns]"
      ]
     },
     "execution_count": 16,
     "metadata": {},
     "output_type": "execute_result"
    }
   ],
   "source": [
    "# Apply preprocessing to the comments\n",
    "df['comment_text'] = df['comment_text'].apply(preprocess_text)\n",
    "df"
   ]
  },
  {
   "cell_type": "code",
   "execution_count": 17,
   "metadata": {},
   "outputs": [
    {
     "data": {
      "text/plain": [
       "0    [accurate, call, 1000, price, closer, calling,...\n",
       "1                                    [samsung, phonen]\n",
       "2    [thank, gosh, place, watch, without, hd, speed...\n",
       "3    [happened, home, button, iphone, x, coughcopyi...\n",
       "4    [power, disease, care, cure, keep, caring, oth...\n",
       "Name: comment_text, dtype: object"
      ]
     },
     "execution_count": 17,
     "metadata": {},
     "output_type": "execute_result"
    }
   ],
   "source": [
    "# Tokenization (splitting the text into individual words (tokens))\n",
    "tokenized_tweet = df['comment_text'].apply(lambda x: x.split())\n",
    "tokenized_tweet.head()"
   ]
  },
  {
   "cell_type": "code",
   "execution_count": 18,
   "metadata": {},
   "outputs": [
    {
     "name": "stderr",
     "output_type": "stream",
     "text": [
      "[nltk_data] Downloading package wordnet to\n",
      "[nltk_data]     C:\\Users\\0877\\AppData\\Roaming\\nltk_data...\n",
      "[nltk_data]   Package wordnet is already up-to-date!\n",
      "[nltk_data] Downloading package stopwords to\n",
      "[nltk_data]     C:\\Users\\0877\\AppData\\Roaming\\nltk_data...\n",
      "[nltk_data]   Package stopwords is already up-to-date!\n"
     ]
    },
    {
     "data": {
      "text/plain": [
       "0         [accurate, call, 1000, price, closer, calling,...\n",
       "1                                         [samsung, phonen]\n",
       "2         [thank, gosh, place, watch, without, hd, speed...\n",
       "3         [happened, home, button, iphone, x, coughcopyi...\n",
       "4         [power, disease, care, cure, keep, caring, oth...\n",
       "                                ...                        \n",
       "718418                                   [meme, meme, meme]\n",
       "718419                             [yeah, everybody, float]\n",
       "718420                                         [meme, dace]\n",
       "718421                                 [1043, mile, upshur]\n",
       "718422                                     [wahanwahanwaha]\n",
       "Name: comment_text, Length: 718423, dtype: object"
      ]
     },
     "execution_count": 18,
     "metadata": {},
     "output_type": "execute_result"
    }
   ],
   "source": [
    "from nltk.stem import WordNetLemmatizer\n",
    "from nltk.corpus import stopwords\n",
    "\n",
    "# Lemmatization and Stopwords Removal\n",
    "nltk.download('wordnet')\n",
    "nltk.download('stopwords')\n",
    "\n",
    "lemmatizer = WordNetLemmatizer()\n",
    "stop_words = set(stopwords.words('english'))\n",
    "\n",
    "# Lemmatize and remove stopwords\n",
    "tokenized_tweet = tokenized_tweet.apply(lambda x: [lemmatizer.lemmatize(w) for w in x if w not in stop_words])\n",
    "tokenized_tweet"
   ]
  },
  {
   "cell_type": "code",
   "execution_count": 19,
   "metadata": {},
   "outputs": [
    {
     "data": {
      "text/plain": [
       "0              accurate call 1000 price closer calling x 10\n",
       "1                                            samsung phonen\n",
       "2         thank gosh place watch without hd speed doesnt...\n",
       "3         happened home button iphone x coughcopying sam...\n",
       "4         power disease care cure keep caring others bes...\n",
       "                                ...                        \n",
       "718418                                       meme meme meme\n",
       "718419                                 yeah everybody float\n",
       "718420                                            meme dace\n",
       "718421                                     1043 mile upshur\n",
       "718422                                       wahanwahanwaha\n",
       "Name: comment_text, Length: 718423, dtype: object"
      ]
     },
     "execution_count": 19,
     "metadata": {},
     "output_type": "execute_result"
    }
   ],
   "source": [
    "# converts each list of tokens (words) back into a single string in the tokenized_tweet object\n",
    "for i in range(len(tokenized_tweet)):\n",
    "    tokenized_tweet[i] = ' '.join(tokenized_tweet[i])\n",
    "tokenized_tweet"
   ]
  },
  {
   "cell_type": "code",
   "execution_count": 20,
   "metadata": {},
   "outputs": [
    {
     "data": {
      "text/html": [
       "<div>\n",
       "<style scoped>\n",
       "    .dataframe tbody tr th:only-of-type {\n",
       "        vertical-align: middle;\n",
       "    }\n",
       "\n",
       "    .dataframe tbody tr th {\n",
       "        vertical-align: top;\n",
       "    }\n",
       "\n",
       "    .dataframe thead th {\n",
       "        text-align: right;\n",
       "    }\n",
       "</style>\n",
       "<table border=\"1\" class=\"dataframe\">\n",
       "  <thead>\n",
       "    <tr style=\"text-align: right;\">\n",
       "      <th></th>\n",
       "      <th>comment_text</th>\n",
       "    </tr>\n",
       "  </thead>\n",
       "  <tbody>\n",
       "    <tr>\n",
       "      <th>0</th>\n",
       "      <td>accurate call 1000 price closer calling x 10</td>\n",
       "    </tr>\n",
       "    <tr>\n",
       "      <th>1</th>\n",
       "      <td>samsung phonen</td>\n",
       "    </tr>\n",
       "    <tr>\n",
       "      <th>2</th>\n",
       "      <td>thank gosh place watch without hd speed doesnt...</td>\n",
       "    </tr>\n",
       "    <tr>\n",
       "      <th>3</th>\n",
       "      <td>happened home button iphone x coughcopying sam...</td>\n",
       "    </tr>\n",
       "    <tr>\n",
       "      <th>4</th>\n",
       "      <td>power disease care cure keep caring others bes...</td>\n",
       "    </tr>\n",
       "    <tr>\n",
       "      <th>...</th>\n",
       "      <td>...</td>\n",
       "    </tr>\n",
       "    <tr>\n",
       "      <th>718418</th>\n",
       "      <td>meme meme meme</td>\n",
       "    </tr>\n",
       "    <tr>\n",
       "      <th>718419</th>\n",
       "      <td>yeah everybody float</td>\n",
       "    </tr>\n",
       "    <tr>\n",
       "      <th>718420</th>\n",
       "      <td>meme dace</td>\n",
       "    </tr>\n",
       "    <tr>\n",
       "      <th>718421</th>\n",
       "      <td>1043 mile upshur</td>\n",
       "    </tr>\n",
       "    <tr>\n",
       "      <th>718422</th>\n",
       "      <td>wahanwahanwaha</td>\n",
       "    </tr>\n",
       "  </tbody>\n",
       "</table>\n",
       "<p>718423 rows × 1 columns</p>\n",
       "</div>"
      ],
      "text/plain": [
       "                                             comment_text\n",
       "0            accurate call 1000 price closer calling x 10\n",
       "1                                          samsung phonen\n",
       "2       thank gosh place watch without hd speed doesnt...\n",
       "3       happened home button iphone x coughcopying sam...\n",
       "4       power disease care cure keep caring others bes...\n",
       "...                                                   ...\n",
       "718418                                     meme meme meme\n",
       "718419                               yeah everybody float\n",
       "718420                                          meme dace\n",
       "718421                                   1043 mile upshur\n",
       "718422                                     wahanwahanwaha\n",
       "\n",
       "[718423 rows x 1 columns]"
      ]
     },
     "execution_count": 20,
     "metadata": {},
     "output_type": "execute_result"
    }
   ],
   "source": [
    "# updates the comment_text column in the df DataFrame with the values from tokenized_tweet\n",
    "df['comment_text'] = tokenized_tweet\n",
    "df"
   ]
  },
  {
   "cell_type": "code",
   "execution_count": 21,
   "metadata": {},
   "outputs": [
    {
     "name": "stderr",
     "output_type": "stream",
     "text": [
      "[nltk_data] Downloading package vader_lexicon to\n",
      "[nltk_data]     C:\\Users\\0877\\AppData\\Roaming\\nltk_data...\n",
      "[nltk_data]   Package vader_lexicon is already up-to-date!\n"
     ]
    },
    {
     "data": {
      "text/html": [
       "<div>\n",
       "<style scoped>\n",
       "    .dataframe tbody tr th:only-of-type {\n",
       "        vertical-align: middle;\n",
       "    }\n",
       "\n",
       "    .dataframe tbody tr th {\n",
       "        vertical-align: top;\n",
       "    }\n",
       "\n",
       "    .dataframe thead th {\n",
       "        text-align: right;\n",
       "    }\n",
       "</style>\n",
       "<table border=\"1\" class=\"dataframe\">\n",
       "  <thead>\n",
       "    <tr style=\"text-align: right;\">\n",
       "      <th></th>\n",
       "      <th>comment_text</th>\n",
       "      <th>Sentiment Scores</th>\n",
       "    </tr>\n",
       "  </thead>\n",
       "  <tbody>\n",
       "    <tr>\n",
       "      <th>0</th>\n",
       "      <td>accurate call 1000 price closer calling x 10</td>\n",
       "      <td>0.0000</td>\n",
       "    </tr>\n",
       "    <tr>\n",
       "      <th>1</th>\n",
       "      <td>samsung phonen</td>\n",
       "      <td>0.0000</td>\n",
       "    </tr>\n",
       "    <tr>\n",
       "      <th>2</th>\n",
       "      <td>thank gosh place watch without hd speed doesnt...</td>\n",
       "      <td>0.0624</td>\n",
       "    </tr>\n",
       "    <tr>\n",
       "      <th>3</th>\n",
       "      <td>happened home button iphone x coughcopying sam...</td>\n",
       "      <td>0.0000</td>\n",
       "    </tr>\n",
       "    <tr>\n",
       "      <th>4</th>\n",
       "      <td>power disease care cure keep caring others bes...</td>\n",
       "      <td>0.8910</td>\n",
       "    </tr>\n",
       "    <tr>\n",
       "      <th>...</th>\n",
       "      <td>...</td>\n",
       "      <td>...</td>\n",
       "    </tr>\n",
       "    <tr>\n",
       "      <th>718418</th>\n",
       "      <td>meme meme meme</td>\n",
       "      <td>0.0000</td>\n",
       "    </tr>\n",
       "    <tr>\n",
       "      <th>718419</th>\n",
       "      <td>yeah everybody float</td>\n",
       "      <td>0.2960</td>\n",
       "    </tr>\n",
       "    <tr>\n",
       "      <th>718420</th>\n",
       "      <td>meme dace</td>\n",
       "      <td>0.0000</td>\n",
       "    </tr>\n",
       "    <tr>\n",
       "      <th>718421</th>\n",
       "      <td>1043 mile upshur</td>\n",
       "      <td>0.0000</td>\n",
       "    </tr>\n",
       "    <tr>\n",
       "      <th>718422</th>\n",
       "      <td>wahanwahanwaha</td>\n",
       "      <td>0.0000</td>\n",
       "    </tr>\n",
       "  </tbody>\n",
       "</table>\n",
       "<p>718423 rows × 2 columns</p>\n",
       "</div>"
      ],
      "text/plain": [
       "                                             comment_text  Sentiment Scores\n",
       "0            accurate call 1000 price closer calling x 10            0.0000\n",
       "1                                          samsung phonen            0.0000\n",
       "2       thank gosh place watch without hd speed doesnt...            0.0624\n",
       "3       happened home button iphone x coughcopying sam...            0.0000\n",
       "4       power disease care cure keep caring others bes...            0.8910\n",
       "...                                                   ...               ...\n",
       "718418                                     meme meme meme            0.0000\n",
       "718419                               yeah everybody float            0.2960\n",
       "718420                                          meme dace            0.0000\n",
       "718421                                   1043 mile upshur            0.0000\n",
       "718422                                     wahanwahanwaha            0.0000\n",
       "\n",
       "[718423 rows x 2 columns]"
      ]
     },
     "execution_count": 21,
     "metadata": {},
     "output_type": "execute_result"
    }
   ],
   "source": [
    "import nltk\n",
    "nltk.download('vader_lexicon') # contains a dictionary of words with their associated sentiment scores (positive, negative, or neutral)\n",
    "\n",
    "from nltk.sentiment.vader import SentimentIntensityAnalyzer\n",
    "sia = SentimentIntensityAnalyzer() # designed for sentiment analysis, particularly effective on social media text\n",
    "\n",
    "# extracts the compound sentiment score (a single value between -1 and +1) and stores it in a new column called Sentiment Scores in the df DataFrame\n",
    "df['Sentiment Scores'] = df['comment_text'].apply(lambda x:sia.polarity_scores(x)['compound'])\n",
    "df"
   ]
  },
  {
   "cell_type": "code",
   "execution_count": 22,
   "metadata": {},
   "outputs": [
    {
     "data": {
      "text/html": [
       "<div>\n",
       "<style scoped>\n",
       "    .dataframe tbody tr th:only-of-type {\n",
       "        vertical-align: middle;\n",
       "    }\n",
       "\n",
       "    .dataframe tbody tr th {\n",
       "        vertical-align: top;\n",
       "    }\n",
       "\n",
       "    .dataframe thead th {\n",
       "        text-align: right;\n",
       "    }\n",
       "</style>\n",
       "<table border=\"1\" class=\"dataframe\">\n",
       "  <thead>\n",
       "    <tr style=\"text-align: right;\">\n",
       "      <th></th>\n",
       "      <th>comment_text</th>\n",
       "      <th>Sentiment Scores</th>\n",
       "      <th>Sentiment</th>\n",
       "    </tr>\n",
       "  </thead>\n",
       "  <tbody>\n",
       "    <tr>\n",
       "      <th>0</th>\n",
       "      <td>accurate call 1000 price closer calling x 10</td>\n",
       "      <td>0.0000</td>\n",
       "      <td>Neutral</td>\n",
       "    </tr>\n",
       "    <tr>\n",
       "      <th>1</th>\n",
       "      <td>samsung phonen</td>\n",
       "      <td>0.0000</td>\n",
       "      <td>Neutral</td>\n",
       "    </tr>\n",
       "    <tr>\n",
       "      <th>2</th>\n",
       "      <td>thank gosh place watch without hd speed doesnt...</td>\n",
       "      <td>0.0624</td>\n",
       "      <td>Positive</td>\n",
       "    </tr>\n",
       "    <tr>\n",
       "      <th>3</th>\n",
       "      <td>happened home button iphone x coughcopying sam...</td>\n",
       "      <td>0.0000</td>\n",
       "      <td>Neutral</td>\n",
       "    </tr>\n",
       "    <tr>\n",
       "      <th>4</th>\n",
       "      <td>power disease care cure keep caring others bes...</td>\n",
       "      <td>0.8910</td>\n",
       "      <td>Positive</td>\n",
       "    </tr>\n",
       "    <tr>\n",
       "      <th>...</th>\n",
       "      <td>...</td>\n",
       "      <td>...</td>\n",
       "      <td>...</td>\n",
       "    </tr>\n",
       "    <tr>\n",
       "      <th>718418</th>\n",
       "      <td>meme meme meme</td>\n",
       "      <td>0.0000</td>\n",
       "      <td>Neutral</td>\n",
       "    </tr>\n",
       "    <tr>\n",
       "      <th>718419</th>\n",
       "      <td>yeah everybody float</td>\n",
       "      <td>0.2960</td>\n",
       "      <td>Positive</td>\n",
       "    </tr>\n",
       "    <tr>\n",
       "      <th>718420</th>\n",
       "      <td>meme dace</td>\n",
       "      <td>0.0000</td>\n",
       "      <td>Neutral</td>\n",
       "    </tr>\n",
       "    <tr>\n",
       "      <th>718421</th>\n",
       "      <td>1043 mile upshur</td>\n",
       "      <td>0.0000</td>\n",
       "      <td>Neutral</td>\n",
       "    </tr>\n",
       "    <tr>\n",
       "      <th>718422</th>\n",
       "      <td>wahanwahanwaha</td>\n",
       "      <td>0.0000</td>\n",
       "      <td>Neutral</td>\n",
       "    </tr>\n",
       "  </tbody>\n",
       "</table>\n",
       "<p>718423 rows × 3 columns</p>\n",
       "</div>"
      ],
      "text/plain": [
       "                                             comment_text  Sentiment Scores  \\\n",
       "0            accurate call 1000 price closer calling x 10            0.0000   \n",
       "1                                          samsung phonen            0.0000   \n",
       "2       thank gosh place watch without hd speed doesnt...            0.0624   \n",
       "3       happened home button iphone x coughcopying sam...            0.0000   \n",
       "4       power disease care cure keep caring others bes...            0.8910   \n",
       "...                                                   ...               ...   \n",
       "718418                                     meme meme meme            0.0000   \n",
       "718419                               yeah everybody float            0.2960   \n",
       "718420                                          meme dace            0.0000   \n",
       "718421                                   1043 mile upshur            0.0000   \n",
       "718422                                     wahanwahanwaha            0.0000   \n",
       "\n",
       "       Sentiment  \n",
       "0        Neutral  \n",
       "1        Neutral  \n",
       "2       Positive  \n",
       "3        Neutral  \n",
       "4       Positive  \n",
       "...          ...  \n",
       "718418   Neutral  \n",
       "718419  Positive  \n",
       "718420   Neutral  \n",
       "718421   Neutral  \n",
       "718422   Neutral  \n",
       "\n",
       "[718423 rows x 3 columns]"
      ]
     },
     "execution_count": 22,
     "metadata": {},
     "output_type": "execute_result"
    }
   ],
   "source": [
    "# classifies the sentiment of each comment into Positive, Neutral, or Negative based on the compound score\n",
    "df['Sentiment'] = df['Sentiment Scores'].apply(lambda s : 'Positive' if s > 0 else ('Neutral' if s == 0 else 'Negative'))\n",
    "df"
   ]
  },
  {
   "cell_type": "code",
   "execution_count": 23,
   "metadata": {},
   "outputs": [
    {
     "data": {
      "text/plain": [
       "Sentiment\n",
       "Positive    347422\n",
       "Neutral     240125\n",
       "Negative    130876\n",
       "Name: count, dtype: int64"
      ]
     },
     "execution_count": 23,
     "metadata": {},
     "output_type": "execute_result"
    }
   ],
   "source": [
    "df[\"Sentiment\"].value_counts()"
   ]
  },
  {
   "cell_type": "markdown",
   "metadata": {},
   "source": [
    "#"
   ]
  },
  {
   "cell_type": "markdown",
   "metadata": {},
   "source": [
    "# GRU"
   ]
  },
  {
   "cell_type": "code",
   "execution_count": 24,
   "metadata": {},
   "outputs": [
    {
     "name": "stdout",
     "output_type": "stream",
     "text": [
      "WARNING:tensorflow:From C:\\Users\\0877\\AppData\\Roaming\\Python\\Python310\\site-packages\\keras\\src\\losses.py:2976: The name tf.losses.sparse_softmax_cross_entropy is deprecated. Please use tf.compat.v1.losses.sparse_softmax_cross_entropy instead.\n",
      "\n",
      "WARNING:tensorflow:From C:\\Users\\0877\\AppData\\Roaming\\Python\\Python310\\site-packages\\keras\\src\\backend.py:873: The name tf.get_default_graph is deprecated. Please use tf.compat.v1.get_default_graph instead.\n",
      "\n",
      "WARNING:tensorflow:From C:\\Users\\0877\\AppData\\Roaming\\Python\\Python310\\site-packages\\keras\\src\\optimizers\\__init__.py:309: The name tf.train.Optimizer is deprecated. Please use tf.compat.v1.train.Optimizer instead.\n",
      "\n",
      "Model: \"sequential\"\n",
      "_________________________________________________________________\n",
      " Layer (type)                Output Shape              Param #   \n",
      "=================================================================\n",
      " embedding (Embedding)       (None, 100, 128)          640000    \n",
      "                                                                 \n",
      " gru (GRU)                   (None, 128)               99072     \n",
      "                                                                 \n",
      " dropout (Dropout)           (None, 128)               0         \n",
      "                                                                 \n",
      " dense (Dense)               (None, 3)                 387       \n",
      "                                                                 \n",
      "=================================================================\n",
      "Total params: 739459 (2.82 MB)\n",
      "Trainable params: 739459 (2.82 MB)\n",
      "Non-trainable params: 0 (0.00 Byte)\n",
      "_________________________________________________________________\n",
      "Epoch 1/10\n",
      "WARNING:tensorflow:From C:\\Users\\0877\\AppData\\Roaming\\Python\\Python310\\site-packages\\keras\\src\\utils\\tf_utils.py:492: The name tf.ragged.RaggedTensorValue is deprecated. Please use tf.compat.v1.ragged.RaggedTensorValue instead.\n",
      "\n",
      "WARNING:tensorflow:From C:\\Users\\0877\\AppData\\Roaming\\Python\\Python310\\site-packages\\keras\\src\\engine\\base_layer_utils.py:384: The name tf.executing_eagerly_outside_functions is deprecated. Please use tf.compat.v1.executing_eagerly_outside_functions instead.\n",
      "\n",
      "8981/8981 - 985s - loss: 0.1723 - accuracy: 0.9487 - val_loss: 0.1226 - val_accuracy: 0.9663 - 985s/epoch - 110ms/step\n",
      "Epoch 2/10\n",
      "8981/8981 - 966s - loss: 0.1161 - accuracy: 0.9688 - val_loss: 0.1130 - val_accuracy: 0.9689 - 966s/epoch - 108ms/step\n",
      "Epoch 3/10\n",
      "8981/8981 - 925s - loss: 0.0969 - accuracy: 0.9746 - val_loss: 0.1009 - val_accuracy: 0.9733 - 925s/epoch - 103ms/step\n",
      "Epoch 4/10\n",
      "8981/8981 - 780s - loss: 0.0835 - accuracy: 0.9783 - val_loss: 0.0962 - val_accuracy: 0.9757 - 780s/epoch - 87ms/step\n",
      "Epoch 5/10\n",
      "8981/8981 - 702s - loss: 0.0741 - accuracy: 0.9811 - val_loss: 0.0951 - val_accuracy: 0.9762 - 702s/epoch - 78ms/step\n",
      "Epoch 6/10\n",
      "8981/8981 - 694s - loss: 0.0663 - accuracy: 0.9830 - val_loss: 0.0934 - val_accuracy: 0.9774 - 694s/epoch - 77ms/step\n",
      "Epoch 7/10\n",
      "8981/8981 - 782s - loss: 0.0602 - accuracy: 0.9847 - val_loss: 0.0954 - val_accuracy: 0.9782 - 782s/epoch - 87ms/step\n",
      "Epoch 8/10\n",
      "8981/8981 - 771s - loss: 0.0560 - accuracy: 0.9857 - val_loss: 0.0966 - val_accuracy: 0.9783 - 771s/epoch - 86ms/step\n",
      "Epoch 9/10\n",
      "8981/8981 - 778s - loss: 0.0529 - accuracy: 0.9864 - val_loss: 0.0981 - val_accuracy: 0.9786 - 778s/epoch - 87ms/step\n",
      "Epoch 10/10\n",
      "8981/8981 - 802s - loss: 0.0503 - accuracy: 0.9872 - val_loss: 0.0995 - val_accuracy: 0.9778 - 802s/epoch - 89ms/step\n",
      "2246/2246 [==============================] - 71s 32ms/step - loss: 0.0995 - accuracy: 0.9778\n",
      "Test Accuracy: 97.78%\n"
     ]
    },
    {
     "data": {
      "image/png": "[encoded data removed]",
      "text/plain": [
       "<Figure size 640x480 with 1 Axes>"
      ]
     },
     "metadata": {},
     "output_type": "display_data"
    },
    {
     "data": {
      "image/png": "[encoded data removed]",
      "text/plain": [
       "<Figure size 640x480 with 1 Axes>"
      ]
     },
     "metadata": {},
     "output_type": "display_data"
    }
   ],
   "source": [
    "from keras.preprocessing.text import Tokenizer\n",
    "from sklearn.model_selection import train_test_split\n",
    "from sklearn.metrics import accuracy_score, classification_report, confusion_matrix, ConfusionMatrixDisplay\n",
    "from keras.preprocessing.sequence import pad_sequences\n",
    "from sklearn.preprocessing import LabelEncoder\n",
    "from keras.models import Sequential\n",
    "from keras.layers import Embedding, GRU, Dense, Dropout\n",
    "\n",
    "# Prepare Data for GRU Model\n",
    "\n",
    "# Tokenize the text data\n",
    "MAX_NUM_WORDS = 5000  # Maximum number of words to keep in the vocabulary\n",
    "MAX_SEQUENCE_LENGTH = 100  # Maximum length of each comment (after padding)\n",
    "\n",
    "tokenizer = Tokenizer(num_words=MAX_NUM_WORDS)\n",
    "tokenizer.fit_on_texts(df['comment_text'])  # Fit the tokenizer on the text\n",
    "sequences = tokenizer.texts_to_sequences(df['comment_text'])  # Convert texts to sequences of integers\n",
    "\n",
    "# Pad sequences to ensure equal length for each comment\n",
    "data = pad_sequences(sequences, maxlen=MAX_SEQUENCE_LENGTH)\n",
    "\n",
    "# Encode the Sentiment Labels (Positive, Neutral, Negative) as integers\n",
    "label_encoder = LabelEncoder()\n",
    "labels = label_encoder.fit_transform(df['Sentiment'])\n",
    "\n",
    "# Split the data into training and testing sets\n",
    "X_train, X_test, y_train, y_test = train_test_split(data, labels, test_size=0.2, random_state=42)\n",
    "\n",
    "# Build the GRU Model\n",
    "model = Sequential()\n",
    "\n",
    "# Embedding Layer: Converts word indices into dense vectors of fixed size\n",
    "model.add(Embedding(input_dim=MAX_NUM_WORDS, output_dim=128, input_length=MAX_SEQUENCE_LENGTH))\n",
    "\n",
    "# GRU Layer: Replacing LSTM with GRU for sequential information capture\n",
    "model.add(GRU(128, return_sequences=False))\n",
    "\n",
    "# Dropout Layer: To reduce overfitting\n",
    "model.add(Dropout(0.5))\n",
    "\n",
    "# Dense Output Layer with softmax activation for multi-class classification\n",
    "model.add(Dense(3, activation='softmax'))  # 3 classes: Positive, Neutral, Negative\n",
    "\n",
    "# Compile the model\n",
    "model.compile(loss='sparse_categorical_crossentropy', optimizer='adam', metrics=['accuracy'])\n",
    "\n",
    "# Display the model summary\n",
    "model.summary()\n",
    "\n",
    "# Train the GRU Model\n",
    "history = model.fit(X_train, y_train, epochs=10, batch_size=64, validation_data=(X_test, y_test), verbose=2)\n",
    "\n",
    "# Evaluate the model on test data\n",
    "score, accuracy = model.evaluate(X_test, y_test, batch_size=64)\n",
    "print(f\"Test Accuracy: {accuracy * 100:.2f}%\")\n",
    "\n",
    "# Save the trained model\n",
    "model.save('Models/gru_sentiment_model.h5')\n",
    "\n",
    "# Plot Training and Validation Accuracy\n",
    "plt.plot(history.history['accuracy'], label='Training Accuracy')\n",
    "plt.plot(history.history['val_accuracy'], label='Validation Accuracy')\n",
    "plt.title('Model Accuracy')\n",
    "plt.xlabel('Epochs')\n",
    "plt.ylabel('Accuracy')\n",
    "plt.legend()\n",
    "plt.show()\n",
    "\n",
    "# Plot Training and Validation Loss\n",
    "plt.plot(history.history['loss'], label='Training Loss')\n",
    "plt.plot(history.history['val_loss'], label='Validation Loss')\n",
    "plt.title('Model Loss')\n",
    "plt.xlabel('Epochs')\n",
    "plt.ylabel('Loss')\n",
    "plt.legend()\n",
    "plt.show()\n",
    "\n",
    "# Load the saved model (for future use)\n",
    "from keras.models import load_model\n",
    "model = load_model('Models/gru_sentiment_model.h5')"
   ]
  }
 ],
 "metadata": {
  "kernelspec": {
   "display_name": "tk161133",
   "language": "python",
   "name": "python3"
  },
  "language_info": {
   "codemirror_mode": {
    "name": "ipython",
    "version": 3
   },
   "file_extension": ".py",
   "mimetype": "text/x-python",
   "name": "python",
   "nbconvert_exporter": "python",
   "pygments_lexer": "ipython3",
   "version": "3.10.8"
  }
 },
 "nbformat": 4,
 "nbformat_minor": 2
}
